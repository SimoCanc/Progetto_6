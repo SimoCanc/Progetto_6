{
 "cells": [
  {
   "cell_type": "code",
   "execution_count": null,
   "metadata": {},
   "outputs": [],
   "source": [
    "'''\n",
    "Questo script esegue la K-Fold c.v. sul training-dataset\n",
    "'''"
   ]
  },
  {
   "cell_type": "code",
   "execution_count": null,
   "metadata": {
    "execution": {
     "iopub.execute_input": "2023-03-23T15:03:45.948342Z",
     "iopub.status.busy": "2023-03-23T15:03:45.947964Z",
     "iopub.status.idle": "2023-03-23T15:03:49.295854Z",
     "shell.execute_reply": "2023-03-23T15:03:49.294626Z",
     "shell.execute_reply.started": "2023-03-23T15:03:45.948302Z"
    },
    "executionInfo": {
     "elapsed": 1519,
     "status": "ok",
     "timestamp": 1678755109311,
     "user": {
      "displayName": "Simone Cancelli",
      "userId": "09897572314925326515"
     },
     "user_tz": -60
    },
    "id": "4OvYEEXNMeKe"
   },
   "outputs": [],
   "source": [
    "# Import delle librerie\n",
    "import torch\n",
    "import torch.nn as nn\n",
    "import torch.optim as optim\n",
    "import torchvision.transforms as T\n",
    "from torchvision.models import resnet50\n",
    "from torchvision.datasets import ImageFolder\n",
    "from torch.utils.data import DataLoader,SubsetRandomSampler\n",
    "from torch.optim.lr_scheduler import CosineAnnealingLR,OneCycleLR\n",
    "\n",
    "import numpy as np\n",
    "from sklearn.model_selection import KFold"
   ]
  },
  {
   "cell_type": "code",
   "execution_count": null,
   "metadata": {},
   "outputs": [],
   "source": [
    "# Import funzioni da file utils.txt\n",
    "import ipynb\n",
    "from ipynb.fs.full.utils import fix_seed, train_one_epoch, test_one_epoch, reset_wgts, show_batch"
   ]
  },
  {
   "cell_type": "code",
   "execution_count": null,
   "metadata": {
    "execution": {
     "iopub.execute_input": "2023-03-23T15:03:49.298943Z",
     "iopub.status.busy": "2023-03-23T15:03:49.298361Z",
     "iopub.status.idle": "2023-03-23T15:03:49.364107Z",
     "shell.execute_reply": "2023-03-23T15:03:49.362940Z",
     "shell.execute_reply.started": "2023-03-23T15:03:49.298902Z"
    },
    "executionInfo": {
     "elapsed": 25,
     "status": "ok",
     "timestamp": 1678755109327,
     "user": {
      "displayName": "Simone Cancelli",
      "userId": "09897572314925326515"
     },
     "user_tz": -60
    },
    "id": "YQhURtbgM05V"
   },
   "outputs": [],
   "source": [
    "# Inizializzazione generatore valori random\n",
    "SEED = 123\n",
    "fix_seed(SEED)"
   ]
  },
  {
   "cell_type": "code",
   "execution_count": null,
   "metadata": {
    "execution": {
     "iopub.execute_input": "2023-03-23T15:03:49.373839Z",
     "iopub.status.busy": "2023-03-23T15:03:49.372339Z",
     "iopub.status.idle": "2023-03-23T15:03:49.385406Z",
     "shell.execute_reply": "2023-03-23T15:03:49.383825Z",
     "shell.execute_reply.started": "2023-03-23T15:03:49.373796Z"
    },
    "executionInfo": {
     "elapsed": 25,
     "status": "ok",
     "timestamp": 1678755109328,
     "user": {
      "displayName": "Simone Cancelli",
      "userId": "09897572314925326515"
     },
     "user_tz": -60
    },
    "id": "1TAEG0O3M6Bu"
   },
   "outputs": [],
   "source": [
    "# Definizione iper-parametri\n",
    "IMGS_PATH = '/media/users/cgambina/Progetto_6/Dati/Immagini'\n",
    "\n",
    "NUM_EPOCHS = 7\n",
    "BS = 128 \n",
    "LR = 1e-3\n",
    "LR_DEC = 0.75\n",
    "K = 10\n",
    "\n",
    "device = torch.device('cuda' if torch.cuda.is_available() else 'cpu')\n",
    "splits = KFold(n_splits=K, shuffle=True, random_state=SEED)"
   ]
  },
  {
   "cell_type": "code",
   "execution_count": null,
   "metadata": {
    "execution": {
     "iopub.execute_input": "2023-03-23T15:03:49.400448Z",
     "iopub.status.busy": "2023-03-23T15:03:49.399021Z",
     "iopub.status.idle": "2023-03-23T15:03:49.412380Z",
     "shell.execute_reply": "2023-03-23T15:03:49.410678Z",
     "shell.execute_reply.started": "2023-03-23T15:03:49.400409Z"
    },
    "executionInfo": {
     "elapsed": 25,
     "status": "ok",
     "timestamp": 1678755109329,
     "user": {
      "displayName": "Simone Cancelli",
      "userId": "09897572314925326515"
     },
     "user_tz": -60
    },
    "id": "7q7LYz3VNBZ3"
   },
   "outputs": [],
   "source": [
    "# Definizione trasformazioni da applicare al batch di immagini\n",
    "transforms = T.Compose([\n",
    "    T.RandomChoice(\n",
    "        [\n",
    "            T.RandomRotation((-5,5)),\n",
    "            T.RandomRotation((85,95)),\n",
    "            T.RandomRotation((175,195)),\n",
    "            T.RandomRotation((265,275)),\n",
    "    ]),\n",
    "    T.ToTensor(),\n",
    "    T.Normalize(\n",
    "        mean=[0.485, 0.456, 0.406],\n",
    "        std=[0.229, 0.224, 0.225]\n",
    "    )\n",
    "])"
   ]
  },
  {
   "cell_type": "code",
   "execution_count": null,
   "metadata": {},
   "outputs": [],
   "source": [
    "# Definizione del dataset, della loss function, e dell'archittettura della rete\n",
    "dataset = ImageFolder(IMGS_PATH, transforms)\n",
    "criterion = nn.BCEWithLogitsLoss() \n",
    "\n",
    "net = resnet50(weights='ResNet50_Weights.IMAGENET1K_V1').to(device)\n",
    "\n",
    "n_filters = net.fc.in_features\n",
    "net.fc = nn.Linear(n_filters, 1).to(device) "
   ]
  },
  {
   "cell_type": "code",
   "execution_count": null,
   "metadata": {},
   "outputs": [],
   "source": [
    "# Riduzione del learning rate in base al layer (blocco)\n",
    "layer_names = []\n",
    "for name, param in net.named_parameters():\n",
    "    layer_names.append(name)\n",
    "\n",
    "layer_names.reverse()\n",
    "\n",
    "parameters = []\n",
    "prev_group_name = layer_names[0].split('.')[0]\n",
    "\n",
    "for idx, name in enumerate(layer_names):\n",
    "    \n",
    "    cur_group_name = name.split('.')[0]\n",
    "    if cur_group_name != prev_group_name:\n",
    "        LR *= LR_DEC\n",
    "    prev_group_name = cur_group_name\n",
    "\n",
    "    #print(f'{idx}: lr = {LR:.6f}, {name}')\n",
    "    parameters += [{'params': [p for n, p in net.named_parameters() if n == name and p.requires_grad],\n",
    "                    'lr':     LR}]"
   ]
  },
  {
   "cell_type": "code",
   "execution_count": null,
   "metadata": {},
   "outputs": [],
   "source": [
    "OPTIMIZER = optim.Adam(net.parameters(), lr=LR)  \n",
    "SCHEDULER = None"
   ]
  },
  {
   "cell_type": "code",
   "execution_count": null,
   "metadata": {
    "colab": {
     "base_uri": "https://localhost:8080/",
     "height": 414
    },
    "execution": {
     "iopub.execute_input": "2023-03-23T15:04:01.576858Z",
     "iopub.status.busy": "2023-03-23T15:04:01.576535Z",
     "iopub.status.idle": "2023-03-23T15:31:57.221571Z",
     "shell.execute_reply": "2023-03-23T15:31:57.220432Z",
     "shell.execute_reply.started": "2023-03-23T15:04:01.576818Z"
    },
    "executionInfo": {
     "elapsed": 986419,
     "status": "error",
     "timestamp": 1678756098027,
     "user": {
      "displayName": "Simone Cancelli",
      "userId": "09897572314925326515"
     },
     "user_tz": -60
    },
    "id": "vTxD6gS_NxnC",
    "outputId": "0a93eb9a-4a02-4b65-c285-0e927f2b1281"
   },
   "outputs": [],
   "source": [
    "# Training della rete tramite ripetizione della k-fold c.v.\n",
    "epoch_train_loss = []; epoch_train_acc = []\n",
    "epoch_test_loss = []; epoch_test_acc = []\n",
    "gen = torch.Generator().manual_seed(SEED)\n",
    "\n",
    "for fold, (train_idx,test_idx) in enumerate(splits.split(dataset)):\n",
    "\n",
    "    print(f'--- FOLD ---: {fold + 1}')\n",
    "    \n",
    "    train_sampler = SubsetRandomSampler(train_idx, gen)\n",
    "    test_sampler = SubsetRandomSampler(test_idx, gen)\n",
    "    train_loader = DataLoader(dataset, batch_size=BS, sampler=train_sampler)\n",
    "    test_loader = DataLoader(dataset, batch_size=BS, sampler=test_sampler)\n",
    "    \n",
    "    # Reset parametri\n",
    "    net.apply(reset_wgts)\n",
    "    optimizer = OPTIMIZER \n",
    "    scheduler = SCHEDULER\n",
    "\n",
    "    for epoch in range(NUM_EPOCHS):\n",
    "        train_loss, train_correct = train_one_epoch(net,device,train_loader,criterion,optimizer,scheduler)\n",
    "        test_loss, test_correct = test_one_epoch(net,device,test_loader,criterion)\n",
    "\n",
    "        train_loss = train_loss / len(train_loader.sampler)\n",
    "        train_acc = train_correct / len(train_loader.sampler) * 100\n",
    "        test_loss = test_loss / len(test_loader.sampler)\n",
    "        test_acc = test_correct / len(test_loader.sampler) * 100\n",
    "\n",
    "        print(f'Epoca:{epoch + 1}/{NUM_EPOCHS} AVG Training Loss:{train_loss:.3f} AVG Test Loss:{test_loss:.3f}') \n",
    "        print(f'AVG Training Acc {train_acc:.2f} % AVG Test Acc {test_acc:.2f} %')\n",
    "          \n",
    "    epoch_train_loss.append(train_loss); epoch_train_acc.append(train_acc)  \n",
    "    epoch_test_loss.append(test_loss); epoch_test_acc.append(test_acc)"
   ]
  },
  {
   "cell_type": "code",
   "execution_count": null,
   "metadata": {
    "execution": {
     "iopub.execute_input": "2023-03-23T15:31:57.224484Z",
     "iopub.status.busy": "2023-03-23T15:31:57.222937Z",
     "iopub.status.idle": "2023-03-23T15:31:57.233246Z",
     "shell.execute_reply": "2023-03-23T15:31:57.232014Z",
     "shell.execute_reply.started": "2023-03-23T15:31:57.224444Z"
    },
    "executionInfo": {
     "elapsed": 9,
     "status": "aborted",
     "timestamp": 1678756098028,
     "user": {
      "displayName": "Simone Cancelli",
      "userId": "09897572314925326515"
     },
     "user_tz": -60
    },
    "id": "0KjB3r-hN1nQ"
   },
   "outputs": [],
   "source": [
    "# Calcolo di loss e accuracy\n",
    "avg_train_loss = np.mean(epoch_train_loss)\n",
    "avg_train_acc = np.mean(epoch_train_acc)\n",
    "avg_test_loss = np.mean(epoch_test_loss)\n",
    "avg_test_acc = np.mean(epoch_test_acc)\n",
    "\n",
    "# Calcolo deviazione standard\n",
    "std_train_loss = np.std(epoch_train_loss)\n",
    "std_train_acc = np.std(epoch_train_acc)\n",
    "std_test_loss = np.std(epoch_test_loss)\n",
    "std_test_acc = np.std(epoch_test_acc)\n",
    "\n",
    "print(f'Media Training Loss: {avg_train_loss:.4f} -- Media Test Loss: {avg_test_loss:.4f}')\n",
    "print(f'Media Training Accuracy: {avg_train_acc:.3f} -- Media Test Accuracy: {avg_test_acc:.3f}')\n",
    "\n",
    "print(f'Std Training Loss: {std_train_loss:.4f} -- Std Test Loss: {std_test_loss:.4f}')\n",
    "print(f'Std Training Accuracy: {std_train_acc:.3f} -- Std Test Accuracy: {std_test_acc:.3f}')"
   ]
  },
  {
   "cell_type": "code",
   "execution_count": null,
   "metadata": {},
   "outputs": [],
   "source": [
    "# Mostra un campione di immagini \n",
    "show_tfms = T.Compose([\n",
    "    T.RandomChoice(\n",
    "        [\n",
    "            T.RandomRotation((-5,5)),\n",
    "            T.RandomRotation((85,95)),\n",
    "            T.RandomRotation((175,195)),\n",
    "            T.RandomRotation((265,275)),\n",
    "    ]),\n",
    "    T.ToTensor(),\n",
    "])\n",
    "\n",
    "foo_dataset = ImageFolder(IMGS_PATH, show_tfms)\n",
    "show_batch(foo_dataset)"
   ]
  },
  {
   "cell_type": "code",
   "execution_count": null,
   "metadata": {},
   "outputs": [],
   "source": []
  }
 ],
 "metadata": {
  "accelerator": "GPU",
  "colab": {
   "authorship_tag": "ABX9TyNU2TlqdxoljOQk4F8F++i9",
   "mount_file_id": "1LhC5UH_zlem54ASU8nyCxMRtpk-DduoQ",
   "provenance": []
  },
  "gpuClass": "standard",
  "kernelspec": {
   "display_name": "Python 3 (ipykernel)",
   "language": "python",
   "name": "python3"
  },
  "language_info": {
   "codemirror_mode": {
    "name": "ipython",
    "version": 3
   },
   "file_extension": ".py",
   "mimetype": "text/x-python",
   "name": "python",
   "nbconvert_exporter": "python",
   "pygments_lexer": "ipython3",
   "version": "3.10.8"
  }
 },
 "nbformat": 4,
 "nbformat_minor": 4
}
