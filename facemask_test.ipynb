{
 "cells": [
  {
   "cell_type": "code",
   "execution_count": null,
   "metadata": {},
   "outputs": [],
   "source": [
    "'''\n",
    "Questo script esegue una ulteriore validazione del modello\n",
    "Utilizzando un test-dataset esterno\n",
    "'''"
   ]
  },
  {
   "cell_type": "code",
   "execution_count": 1,
   "metadata": {
    "_cell_guid": "b1076dfc-b9ad-4769-8c92-a6c4dae69d19",
    "_uuid": "8f2839f25d086af736a60e9eeb907d3b93b6e0e5",
    "execution": {
     "iopub.status.busy": "2023-04-01T10:48:57.434753Z",
     "iopub.status.idle": "2023-04-01T10:48:57.435783Z",
     "shell.execute_reply": "2023-04-01T10:48:57.435532Z",
     "shell.execute_reply.started": "2023-04-01T10:48:57.435499Z"
    }
   },
   "outputs": [],
   "source": [
    "# Import delle librerie\n",
    "import torch\n",
    "import torch.nn as nn\n",
    "import torch.optim as optim\n",
    "import torchvision.transforms as T\n",
    "from torch.utils.data import DataLoader\n",
    "from torchvision.models import resnet50\n",
    "from torchvision.datasets import ImageFolder\n",
    "\n",
    "import glob\n",
    "from PIL import Image\n",
    "from sklearn.metrics import confusion_matrix, ConfusionMatrixDisplay"
   ]
  },
  {
   "cell_type": "code",
   "execution_count": 2,
   "metadata": {},
   "outputs": [],
   "source": [
    "# Import funzioni da file utils.txt\n",
    "import ipynb\n",
    "from ipynb.fs.full.utils import get_test_preds"
   ]
  },
  {
   "cell_type": "code",
   "execution_count": 3,
   "metadata": {
    "execution": {
     "iopub.status.busy": "2023-04-01T10:48:57.439185Z",
     "iopub.status.idle": "2023-04-01T10:48:57.440155Z",
     "shell.execute_reply": "2023-04-01T10:48:57.439916Z",
     "shell.execute_reply.started": "2023-04-01T10:48:57.439889Z"
    }
   },
   "outputs": [],
   "source": [
    "# Definizione trasformazioni da applicare al batch di immagini\n",
    "device = torch.device('cuda' if torch.cuda.is_available() else 'cpu')\n",
    "\n",
    "transforms = T.Compose([\n",
    "        T.Resize((128,128)),\n",
    "        T.ToTensor(),\n",
    "        T.Normalize(\n",
    "            mean=[0.485, 0.456, 0.406],\n",
    "            std=[0.229, 0.224, 0.225]\n",
    "        ),\n",
    "])"
   ]
  },
  {
   "cell_type": "code",
   "execution_count": 4,
   "metadata": {
    "execution": {
     "iopub.status.busy": "2023-04-01T10:48:57.452123Z",
     "iopub.status.idle": "2023-04-01T10:48:57.452603Z",
     "shell.execute_reply": "2023-04-01T10:48:57.452384Z",
     "shell.execute_reply.started": "2023-04-01T10:48:57.452360Z"
    }
   },
   "outputs": [
    {
     "data": {
      "text/plain": [
       "<All keys matched successfully>"
      ]
     },
     "execution_count": 4,
     "metadata": {},
     "output_type": "execute_result"
    }
   ],
   "source": [
    "# Definizione del dataset, della loss function e dell'archittettura della rete\n",
    "test_data_path  = '/media/users/cgambina/Progetto_6/Dati/Immagini_Test'\n",
    "tot_faces = len(glob.glob(test_data_path + '/*/*.png'))\n",
    "\n",
    "test_dataset = ImageFolder(test_data_path, transforms)\n",
    "test_loader = DataLoader(test_dataset, batch_size=32, shuffle=False)\n",
    "criterion = nn.BCEWithLogitsLoss() \n",
    "\n",
    "WGTS_PATH = '/media/users/cgambina/Progetto_6/Dati/BestWeights/best_model.pt'\n",
    "net = resnet50().to(device)\n",
    "n_filters = net.fc.in_features\n",
    "net.fc = nn.Linear(n_filters, 1).to(device)\n",
    "\n",
    "# Caricamento pesi ottenuti sul training-dataset\n",
    "net.load_state_dict(torch.load(WGTS_PATH))"
   ]
  },
  {
   "cell_type": "code",
   "execution_count": 5,
   "metadata": {
    "execution": {
     "iopub.status.busy": "2023-04-01T10:48:57.454455Z",
     "iopub.status.idle": "2023-04-01T10:48:57.454943Z",
     "shell.execute_reply": "2023-04-01T10:48:57.454730Z",
     "shell.execute_reply.started": "2023-04-01T10:48:57.454703Z"
    }
   },
   "outputs": [
    {
     "name": "stdout",
     "output_type": "stream",
     "text": [
      "Loss: 0.242  Accuracy: 96.49%\n"
     ]
    }
   ],
   "source": [
    "# Calcolo di loss e accuracy sul test-dataset\n",
    "test_loss, test_acc, preds, labels= get_test_preds(net, device, test_loader, criterion)\n",
    "test_loss /= tot_faces\n",
    "test_acc /= tot_faces\n",
    "\n",
    "print(f'Loss: {round(test_loss,4)}  Accuracy: {round(test_acc * 100,2)}%')"
   ]
  },
  {
   "cell_type": "code",
   "execution_count": 6,
   "metadata": {
    "execution": {
     "iopub.status.busy": "2023-04-01T10:48:57.456667Z",
     "iopub.status.idle": "2023-04-01T10:48:57.457165Z",
     "shell.execute_reply": "2023-04-01T10:48:57.456934Z",
     "shell.execute_reply.started": "2023-04-01T10:48:57.456910Z"
    },
    "scrolled": true
   },
   "outputs": [
    {
     "data": {
      "text/plain": [
       "<sklearn.metrics._plot.confusion_matrix.ConfusionMatrixDisplay at 0x7f4f81f7a950>"
      ]
     },
     "execution_count": 6,
     "metadata": {},
     "output_type": "execute_result"
    },
    {
     "data": {
      "image/png": "[encoded data removed]",
      "text/plain": [
       "<Figure size 640x480 with 2 Axes>"
      ]
     },
     "metadata": {},
     "output_type": "display_data"
    }
   ],
   "source": [
    "# Confusion Matrix\n",
    "labels_map = ['Con Maschera', 'Senza Maschera']\n",
    "\n",
    "conf_mtx = confusion_matrix(labels, preds)\n",
    "ConfusionMatrixDisplay(confusion_matrix=conf_mtx, display_labels=labels_map).plot()"
   ]
  },
  {
   "cell_type": "code",
   "execution_count": null,
   "metadata": {},
   "outputs": [],
   "source": []
  }
 ],
 "metadata": {
  "kernelspec": {
   "display_name": "Python 3 (ipykernel)",
   "language": "python",
   "name": "python3"
  },
  "language_info": {
   "codemirror_mode": {
    "name": "ipython",
    "version": 3
   },
   "file_extension": ".py",
   "mimetype": "text/x-python",
   "name": "python",
   "nbconvert_exporter": "python",
   "pygments_lexer": "ipython3",
   "version": "3.10.8"
  }
 },
 "nbformat": 4,
 "nbformat_minor": 4
}
