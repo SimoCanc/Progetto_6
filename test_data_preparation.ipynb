{
 "cells": [
  {
   "cell_type": "code",
   "execution_count": 32,
   "id": "b1dd81b6",
   "metadata": {},
   "outputs": [],
   "source": [
    "import os\n",
    "import cv2\n",
    "import glob\n",
    "import random\n",
    "\n",
    "from PIL import Image"
   ]
  },
  {
   "cell_type": "code",
   "execution_count": 2,
   "id": "292ae080",
   "metadata": {},
   "outputs": [
    {
     "name": "stdout",
     "output_type": "stream",
     "text": [
      "Numero di immagini con maschera: 220\n",
      "Numero di immagini senza maschera: 220\n"
     ]
    }
   ],
   "source": [
    "IMGS_DIR = '/media/users/cgambina/Progetto_6/Dati/Immagini_Test'\n",
    "\n",
    "with_mask = glob.glob(IMGS_DIR + '/with_mask/*.png')\n",
    "without_mask = glob.glob(IMGS_DIR + '/without_mask/*.png')\n",
    "\n",
    "print(f'Numero di immagini con maschera: {len(with_mask)}')\n",
    "print(f'Numero di immagini senza maschera: {len(without_mask)}')"
   ]
  },
  {
   "cell_type": "code",
   "execution_count": 3,
   "id": "0d539d7e",
   "metadata": {},
   "outputs": [],
   "source": [
    "haarcascade_path = '/media/users/cgambina/Progetto_6/Repo/FaceDetect-master/haarcascade_frontalface_default.xml'\n",
    "face_cascade = cv2.CascadeClassifier(haarcascade_path)\n",
    "\n",
    "def get_face(image_path):\n",
    "    image = cv2.cvtColor(cv2.imread(image_path), cv2.COLOR_BGR2RGB)\n",
    "    face = face_cascade.detectMultiScale(image, scaleFactor=1.05, minNeighbors=30)\n",
    "\n",
    "    for (x, y, w, h) in face:\n",
    "        cv2.rectangle(image, (x, y), (x+w, y+h), (0,0,255), 1)\n",
    "        face = image[y:y + h, x:x + w]\n",
    "        \n",
    "    face = cv2.resize(face, (128, 128))\n",
    "    pil_image = Image.fromarray(face)\n",
    "    \n",
    "    #plt.imshow(image)    \n",
    "    return pil_image"
   ]
  },
  {
   "cell_type": "code",
   "execution_count": 5,
   "id": "f7caf1b7",
   "metadata": {},
   "outputs": [
    {
     "name": "stderr",
     "output_type": "stream",
     "text": [
      "libpng warning: iCCP: known incorrect sRGB profile\n",
      "libpng warning: iCCP: known incorrect sRGB profile\n",
      "libpng warning: iCCP: known incorrect sRGB profile\n",
      "libpng warning: iCCP: known incorrect sRGB profile\n",
      "libpng warning: iCCP: known incorrect sRGB profile\n",
      "libpng warning: iCCP: known incorrect sRGB profile\n",
      "libpng warning: iCCP: known incorrect sRGB profile\n",
      "libpng warning: iCCP: known incorrect sRGB profile\n",
      "libpng warning: iCCP: known incorrect sRGB profile\n",
      "libpng warning: iCCP: known incorrect sRGB profile\n",
      "libpng warning: iCCP: known incorrect sRGB profile\n",
      "libpng warning: iCCP: known incorrect sRGB profile\n",
      "libpng warning: iCCP: known incorrect sRGB profile\n",
      "libpng warning: iCCP: known incorrect sRGB profile\n",
      "libpng warning: iCCP: known incorrect sRGB profile\n",
      "libpng warning: iCCP: known incorrect sRGB profile\n"
     ]
    },
    {
     "name": "stdout",
     "output_type": "stream",
     "text": [
      "Sono state rimosse 213 immagini\n"
     ]
    }
   ],
   "source": [
    "# Estrapolazione faccie da immagine intera - Le immagini in cui non viene rilavata una faccia, vengono rimosse\n",
    "images = with_mask + without_mask\n",
    "counter = 0\n",
    "\n",
    "for f in images:\n",
    "    try:\n",
    "        face_crop = get_face(f).save(f)\n",
    "    except:\n",
    "        os.remove(f)\n",
    "        counter += 1\n",
    "        \n",
    "print(f'Sono state rimosse {counter} immagini')"
   ]
  },
  {
   "cell_type": "code",
   "execution_count": 6,
   "id": "5ff8b4bc",
   "metadata": {},
   "outputs": [],
   "source": [
    "#TODO: ri Bilanciare le classi"
   ]
  },
  {
   "cell_type": "code",
   "execution_count": 7,
   "id": "476d1de0",
   "metadata": {},
   "outputs": [],
   "source": [
    "diff = len(without_mask) - len(with_mask)"
   ]
  },
  {
   "cell_type": "code",
   "execution_count": 9,
   "id": "3e4ca832",
   "metadata": {},
   "outputs": [
    {
     "name": "stdout",
     "output_type": "stream",
     "text": [
      "Numero di immagini con maschera: 57\n",
      "Numero di immagini senza maschera: 170\n"
     ]
    }
   ],
   "source": [
    "with_mask = glob.glob(IMGS_DIR + '/with_mask/*.png')\n",
    "without_mask = glob.glob(IMGS_DIR + '/without_mask/*.png')\n",
    "\n",
    "print(f'Numero di immagini con maschera: {len(with_mask)}')\n",
    "print(f'Numero di immagini senza maschera: {len(without_mask)}')"
   ]
  },
  {
   "cell_type": "code",
   "execution_count": 34,
   "id": "e4fd2151",
   "metadata": {},
   "outputs": [],
   "source": [
    "# Bilanciamento del dataset: rimozione immagini Con Maschera in eccesso\n",
    "SEED = 123\n",
    "random.seed(SEED)\n",
    "\n",
    "diff = len(without_mask) - len(with_mask)\n",
    "sample = random.sample(without_mask, diff)\n",
    "\n",
    "for f in without_mask:\n",
    "    if f in sample:\n",
    "        os.remove(f)"
   ]
  }
 ],
 "metadata": {
  "kernelspec": {
   "display_name": "Python 3 (ipykernel)",
   "language": "python",
   "name": "python3"
  },
  "language_info": {
   "codemirror_mode": {
    "name": "ipython",
    "version": 3
   },
   "file_extension": ".py",
   "mimetype": "text/x-python",
   "name": "python",
   "nbconvert_exporter": "python",
   "pygments_lexer": "ipython3",
   "version": "3.10.8"
  }
 },
 "nbformat": 4,
 "nbformat_minor": 5
}
