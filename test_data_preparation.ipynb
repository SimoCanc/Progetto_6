{
 "cells": [
  {
   "cell_type": "code",
   "execution_count": null,
   "id": "0241970d",
   "metadata": {},
   "outputs": [],
   "source": [
    "'''\n",
    "Selezione e preparazione immagini per test-set\n",
    "'''"
   ]
  },
  {
   "cell_type": "code",
   "execution_count": null,
   "id": "b1dd81b6",
   "metadata": {},
   "outputs": [],
   "source": [
    "# Import delle librerie\n",
    "import os\n",
    "import cv2\n",
    "import glob\n",
    "import random\n",
    "\n",
    "from PIL import Image"
   ]
  },
  {
   "cell_type": "code",
   "execution_count": null,
   "id": "d497999e",
   "metadata": {},
   "outputs": [],
   "source": [
    "# Import funzioni da file utils.txt\n",
    "import ipynb\n",
    "from ipynb.fs.full.utils import get_face"
   ]
  },
  {
   "cell_type": "code",
   "execution_count": null,
   "id": "292ae080",
   "metadata": {},
   "outputs": [],
   "source": [
    "# Settaggio del percorso alle immagini\n",
    "IMGS_DIR = '/media/users/cgambina/Progetto_6/Dati/Immagini_Test'\n",
    "\n",
    "with_mask = glob.glob(IMGS_DIR + '/with_mask/*.png')\n",
    "without_mask = glob.glob(IMGS_DIR + '/without_mask/*.png')\n",
    "\n",
    "print(f'Numero di immagini con maschera: {len(with_mask)}')\n",
    "print(f'Numero di immagini senza maschera: {len(without_mask)}')"
   ]
  },
  {
   "cell_type": "code",
   "execution_count": null,
   "id": "f7caf1b7",
   "metadata": {},
   "outputs": [],
   "source": [
    "# Estrapolazione faccie da immagine intera - Le immagini in cui non viene rilavata una faccia, vengono rimosse\n",
    "images = with_mask + without_mask\n",
    "counter = 0\n",
    "\n",
    "for f in images:\n",
    "    try:\n",
    "        face_crop = get_face(f).save(f)\n",
    "    except:\n",
    "        os.remove(f)\n",
    "        counter += 1\n",
    "        \n",
    "print(f'Sono state rimosse {counter} immagini')"
   ]
  },
  {
   "cell_type": "code",
   "execution_count": null,
   "id": "476d1de0",
   "metadata": {},
   "outputs": [],
   "source": [
    "diff = len(without_mask) - len(with_mask)"
   ]
  },
  {
   "cell_type": "code",
   "execution_count": null,
   "id": "3e4ca832",
   "metadata": {},
   "outputs": [],
   "source": [
    "with_mask = glob.glob(IMGS_DIR + '/with_mask/*.png')\n",
    "without_mask = glob.glob(IMGS_DIR + '/without_mask/*.png')\n",
    "\n",
    "print(f'Numero di immagini con maschera: {len(with_mask)}')\n",
    "print(f'Numero di immagini senza maschera: {len(without_mask)}')"
   ]
  },
  {
   "cell_type": "code",
   "execution_count": null,
   "id": "e4fd2151",
   "metadata": {},
   "outputs": [],
   "source": [
    "# Bilanciamento del dataset: rimozione immagini Con Maschera in eccesso\n",
    "SEED = 123\n",
    "random.seed(SEED)\n",
    "\n",
    "diff = len(without_mask) - len(with_mask)\n",
    "sample = random.sample(without_mask, diff)\n",
    "\n",
    "for f in without_mask:\n",
    "    if f in sample:\n",
    "        os.remove(f)"
   ]
  }
 ],
 "metadata": {
  "kernelspec": {
   "display_name": "Python 3 (ipykernel)",
   "language": "python",
   "name": "python3"
  },
  "language_info": {
   "codemirror_mode": {
    "name": "ipython",
    "version": 3
   },
   "file_extension": ".py",
   "mimetype": "text/x-python",
   "name": "python",
   "nbconvert_exporter": "python",
   "pygments_lexer": "ipython3",
   "version": "3.10.8"
  }
 },
 "nbformat": 4,
 "nbformat_minor": 5
}
