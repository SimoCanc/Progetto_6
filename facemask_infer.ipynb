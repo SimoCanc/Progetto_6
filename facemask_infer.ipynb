{
 "cells": [
  {
   "cell_type": "code",
   "execution_count": null,
   "metadata": {},
   "outputs": [],
   "source": [
    "'''\n",
    "Questo script permette di fare inferenza su un immagine esterna\n",
    "Ripresa dalla webcam, o fornita in input valorizzando l'apposita variabile \"foo_img\" \n",
    "'''"
   ]
  },
  {
   "cell_type": "code",
   "execution_count": null,
   "metadata": {
    "_cell_guid": "b1076dfc-b9ad-4769-8c92-a6c4dae69d19",
    "_uuid": "8f2839f25d086af736a60e9eeb907d3b93b6e0e5",
    "execution": {
     "iopub.execute_input": "2023-03-22T23:37:33.104570Z",
     "iopub.status.busy": "2023-03-22T23:37:33.103813Z",
     "iopub.status.idle": "2023-03-22T23:37:34.122661Z",
     "shell.execute_reply": "2023-03-22T23:37:34.121244Z",
     "shell.execute_reply.started": "2023-03-22T23:37:33.104530Z"
    }
   },
   "outputs": [],
   "source": [
    "# Import delle librerie\n",
    "import torch\n",
    "import torch.nn as nn\n",
    "import torchvision.transforms as T\n",
    "from torchvision.models import resnet50\n",
    "\n",
    "import cv2\n",
    "import matplotlib.pyplot as plt\n",
    "from PIL import Image\n",
    "from colorama import Fore"
   ]
  },
  {
   "cell_type": "code",
   "execution_count": null,
   "metadata": {},
   "outputs": [],
   "source": [
    "# Import funzioni da file utils.txt\n",
    "import ipynb\n",
    "from ipynb.fs.full.utils import fix_seed, get_face, get_prediction"
   ]
  },
  {
   "cell_type": "code",
   "execution_count": null,
   "metadata": {
    "execution": {
     "iopub.execute_input": "2023-03-22T23:37:01.895089Z",
     "iopub.status.busy": "2023-03-22T23:37:01.894442Z",
     "iopub.status.idle": "2023-03-22T23:37:01.928756Z",
     "shell.execute_reply": "2023-03-22T23:37:01.927824Z",
     "shell.execute_reply.started": "2023-03-22T23:37:01.895048Z"
    }
   },
   "outputs": [],
   "source": [
    "# Definizione trasformazioni da applicare al batch di immagini\n",
    "transforms = T.Compose([\n",
    "        T.Resize((128,128)),\n",
    "        T.ToTensor(),\n",
    "        T.Normalize(\n",
    "            mean=[0.485, 0.456, 0.406],\n",
    "            std=[0.229, 0.224, 0.225]\n",
    "        ),\n",
    "])"
   ]
  },
  {
   "cell_type": "code",
   "execution_count": null,
   "metadata": {
    "execution": {
     "iopub.execute_input": "2023-03-22T23:37:01.931733Z",
     "iopub.status.busy": "2023-03-22T23:37:01.931202Z",
     "iopub.status.idle": "2023-03-22T23:37:04.144387Z",
     "shell.execute_reply": "2023-03-22T23:37:04.143183Z",
     "shell.execute_reply.started": "2023-03-22T23:37:01.931695Z"
    }
   },
   "outputs": [],
   "source": [
    "# Definizione del dataset e dell'archittettura della rete\n",
    "WGTS_PATH = '/media/users/cgambina/Progetto_6/Dati/BestWeights/best_model.pt'\n",
    "\n",
    "net = resnet50()\n",
    "n_filters = net.fc.in_features\n",
    "net.fc = nn.Linear(n_filters, 1)\n",
    "\n",
    "# Caricamento pesi ottenuti dal training della rete\n",
    "net.load_state_dict(torch.load(WGTS_PATH))\n",
    "net.eval()"
   ]
  },
  {
   "cell_type": "code",
   "execution_count": null,
   "metadata": {},
   "outputs": [],
   "source": [
    "'''\n",
    "# Acquisizione dell'immagine tramite webcam\n",
    "save_as = '/media/users/cgambina/Progetto_6/Script/Imgs_infer/img.jpg'\n",
    "\n",
    "cap = cv2.VideoCapture(0) \n",
    "ret,frame = cap.read()\n",
    "\n",
    "while(True):\n",
    "    cv2.imshow('img1',frame)\n",
    "    if cv2.waitKey(1) & 0xFF == ord('y'): \n",
    "        cv2.imwrite(save_as,frame)\n",
    "        cv2.destroyAllWindows()\n",
    "        break\n",
    "\n",
    "cap.release()\n",
    "\n",
    "foo_img = save_as # Path immagine da valutare\n",
    "'''"
   ]
  },
  {
   "cell_type": "code",
   "execution_count": null,
   "metadata": {},
   "outputs": [],
   "source": [
    "# Visualizzazione risultato\n",
    "foo_img = '/media/users/cgambina/Progetto_6/Script/Imgs_infer/ConMaschera.jpg'\n",
    "try:\n",
    "    face_box = get_face(foo_img)\n",
    "    res = get_prediction(face_box, transforms, net)\n",
    "\n",
    "    if res < 0.5:\n",
    "        get_face(foo_img, box_color=(0,255,0))\n",
    "        print(Fore.GREEN + 'CON MASCHERA')\n",
    "    else:\n",
    "        get_face(foo_img, box_color=(255,0,0))\n",
    "        print(Fore.RED + 'SENZA MASCHERA')\n",
    "    \n",
    "except:\n",
    "    print(Fore.YELLOW + 'ATTENZIONE: volto NON rilavato!!!')"
   ]
  },
  {
   "cell_type": "code",
   "execution_count": null,
   "metadata": {},
   "outputs": [],
   "source": []
  }
 ],
 "metadata": {
  "kernelspec": {
   "display_name": "Python 3 (ipykernel)",
   "language": "python",
   "name": "python3"
  },
  "language_info": {
   "codemirror_mode": {
    "name": "ipython",
    "version": 3
   },
   "file_extension": ".py",
   "mimetype": "text/x-python",
   "name": "python",
   "nbconvert_exporter": "python",
   "pygments_lexer": "ipython3",
   "version": "3.10.8"
  }
 },
 "nbformat": 4,
 "nbformat_minor": 4
}
