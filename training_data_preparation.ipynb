{
 "cells": [
  {
   "cell_type": "code",
   "execution_count": 1,
   "metadata": {},
   "outputs": [],
   "source": [
    "# Import delle librerie\n",
    "import os\n",
    "import glob\n",
    "import random\n",
    "import numpy as np\n",
    "\n",
    "from PIL import Image"
   ]
  },
  {
   "cell_type": "code",
   "execution_count": 2,
   "metadata": {},
   "outputs": [
    {
     "name": "stdout",
     "output_type": "stream",
     "text": [
      "Immagini presenti neldataset: 9457\n"
     ]
    }
   ],
   "source": [
    "# Settaggio del percorso alle immagini\n",
    "IMGS_PATH = '/media/users/cgambina/Progetto_6/Dati/Immagini'\n",
    "\n",
    "with_mask_path = IMGS_PATH + '/WithMask'\n",
    "without_mask_path = IMGS_PATH + '/WithoutMask'\n",
    "\n",
    "tot = len(glob.glob(IMGS_PATH + '/*/*.png'))\n",
    "print(f'Immagini presenti neldataset: {tot}')"
   ]
  },
  {
   "cell_type": "code",
   "execution_count": 9,
   "metadata": {},
   "outputs": [
    {
     "data": {
      "text/plain": [
       "\"\\naug_imgs = glob.glob(IMGS_PATH + '/*/Augmented*')\\nprint(f'Numero di immagini Augmented presenti nel dataset: {len(aug_imgs)}')\\n\\nfor f in aug_imgs: os.remove(f)\\n    \\nprint(f'Immagini rimanenti a seguito ripulitura: {tot}')\\n\""
      ]
     },
     "execution_count": 9,
     "metadata": {},
     "output_type": "execute_result"
    }
   ],
   "source": [
    "# Rimozione immagini Augmented, le quali rappresentano il 50% del totale\n",
    "'''\n",
    "aug_imgs = glob.glob(IMGS_PATH + '/*/Augmented*')\n",
    "print(f'Numero di immagini Augmented presenti nel dataset: {len(aug_imgs)}')\n",
    "\n",
    "for f in aug_imgs: os.remove(f)\n",
    "    \n",
    "print(f'Immagini rimanenti a seguito ripulitura: {tot}')\n",
    "'''"
   ]
  },
  {
   "cell_type": "code",
   "execution_count": 4,
   "metadata": {},
   "outputs": [
    {
     "name": "stdout",
     "output_type": "stream",
     "text": [
      "Dimensioni delle immagini presenti nel dataset: [(128, 128)]\n",
      "Numero immagini Con Maschera: 196\n",
      "Numero immagini Senza Maschera: 4271\n"
     ]
    }
   ],
   "source": [
    "# Sanity-check della dimensione delle immagini \n",
    "imgs_list = glob.glob(IMGS_PATH + '/*/*.png')\n",
    "imgs_dims = []\n",
    "\n",
    "for f in imgs_list:\n",
    "    dims = Image.open(f).size\n",
    "    if dims not in imgs_dims: \n",
    "        imgs_dims.append(dims) \n",
    "\n",
    "        \n",
    "with_mask = glob.glob(with_mask_path + '/*.png')\n",
    "without_mask = glob.glob(without_mask_path + '/*.png')\n",
    "\n",
    "tot_with_mask = len(with_mask) \n",
    "tot_without_mask = len(without_mask) \n",
    "print(f'Dimensioni delle immagini presenti nel dataset: {sorted(imgs_dims)}')\n",
    "print(f'Numero immagini Con Maschera: {tot_with_mask}')\n",
    "print(f'Numero immagini Senza Maschera: {tot_without_mask}')"
   ]
  },
  {
   "cell_type": "code",
   "execution_count": 5,
   "metadata": {},
   "outputs": [
    {
     "name": "stdout",
     "output_type": "stream",
     "text": [
      "Numero immagini con maschera:  196\n",
      "Numero immagini senza maschera:  196\n"
     ]
    }
   ],
   "source": [
    "# Bilanciamento del dataset: rimozione immagini Con Maschera in eccesso\n",
    "SEED = 123\n",
    "random.seed(SEED)\n",
    "\n",
    "diff = tot_without_mask - tot_with_mask\n",
    "sample = random.sample(without_mask, diff)\n",
    "\n",
    "for f in without_mask:\n",
    "    if f in sample:\n",
    "        os.remove(f)\n",
    "        \n",
    "print('Numero immagini con maschera: ', len(glob.glob(with_mask_path + '/*.png')))\n",
    "print('Numero immagini senza maschera: ', len(glob.glob(without_mask_path + '/*.png')))"
   ]
  },
  {
   "cell_type": "code",
   "execution_count": 10,
   "metadata": {},
   "outputs": [
    {
     "name": "stdout",
     "output_type": "stream",
     "text": [
      "Media: [0.59368716 0.48335427 0.43058095]  Std: [0.12230745 0.1227455  0.13652571]\n"
     ]
    }
   ],
   "source": [
    "# Calcolo media e deviazione standard dei valori RGB dell'intero dataset\n",
    "imgs_list = glob.glob(IMGS_PATH + '/*/*.png')\n",
    "\n",
    "rgb_values = [np.mean(np.array(Image.open(f)), axis=(0,1), dtype='float64') for f in imgs_list]\n",
    "rgb_values = np.array(rgb_values)\n",
    "mean = rgb_values.mean(0, dtype='float64') / 255\n",
    "std = rgb_values.std(0, dtype='float64') / 255\n",
    "\n",
    "print(f'Media: {mean}  Std: {std}')\n",
    "# Media: [0.59368716 0.48335427 0.43058095]  Std: [0.12230745 0.1227455  0.13652571]"
   ]
  },
  {
   "cell_type": "code",
   "execution_count": null,
   "metadata": {},
   "outputs": [],
   "source": []
  }
 ],
 "metadata": {
  "colab": {
   "provenance": []
  },
  "kernelspec": {
   "display_name": "Python 3 (ipykernel)",
   "language": "python",
   "name": "python3"
  },
  "language_info": {
   "codemirror_mode": {
    "name": "ipython",
    "version": 3
   },
   "file_extension": ".py",
   "mimetype": "text/x-python",
   "name": "python",
   "nbconvert_exporter": "python",
   "pygments_lexer": "ipython3",
   "version": "3.10.8"
  }
 },
 "nbformat": 4,
 "nbformat_minor": 1
}
