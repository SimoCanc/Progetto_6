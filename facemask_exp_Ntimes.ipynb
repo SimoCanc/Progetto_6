{
 "cells": [
  {
   "cell_type": "code",
   "execution_count": null,
   "metadata": {
    "execution": {
     "iopub.execute_input": "2023-03-23T15:03:45.948342Z",
     "iopub.status.busy": "2023-03-23T15:03:45.947964Z",
     "iopub.status.idle": "2023-03-23T15:03:49.295854Z",
     "shell.execute_reply": "2023-03-23T15:03:49.294626Z",
     "shell.execute_reply.started": "2023-03-23T15:03:45.948302Z"
    },
    "executionInfo": {
     "elapsed": 1519,
     "status": "ok",
     "timestamp": 1678755109311,
     "user": {
      "displayName": "Simone Cancelli",
      "userId": "09897572314925326515"
     },
     "user_tz": -60
    },
    "id": "4OvYEEXNMeKe"
   },
   "outputs": [],
   "source": [
    "# https://towardsdatascience.com/binary-image-classification-in-pytorch-5adf64f8c781\n",
    "# https://github.com/christianversloot/machine-learning-articles/blob/main/how-to-use-k-fold-cross-validation-with-pytorch.md\n",
    "# TODO: Resettare pesi ed optimizert ad ogni KFold, è il metodo giusto? Chiedere forum --- usare torch.no_grad()?\n",
    "import torch\n",
    "import torch.nn as nn\n",
    "import torch.optim as optim\n",
    "import torchvision.transforms as T\n",
    "from torchvision.models import resnet50\n",
    "from torchvision.datasets import ImageFolder\n",
    "from torch.utils.data import DataLoader,SubsetRandomSampler\n",
    "#from torch.optim.lr_scheduler import CosineAnnealingLR,OneCycleLR\n",
    "\n",
    "import numpy as np\n",
    "from csv import writer\n",
    "from tqdm import tqdm\n",
    "from sklearn.model_selection import KFold"
   ]
  },
  {
   "cell_type": "code",
   "execution_count": null,
   "metadata": {},
   "outputs": [],
   "source": [
    "import ipynb\n",
    "from ipynb.fs.full.utils import fix_seed, train_one_epoch, test_one_epoch, reset_wgts"
   ]
  },
  {
   "cell_type": "code",
   "execution_count": null,
   "metadata": {
    "execution": {
     "iopub.execute_input": "2023-03-23T15:03:49.298943Z",
     "iopub.status.busy": "2023-03-23T15:03:49.298361Z",
     "iopub.status.idle": "2023-03-23T15:03:49.364107Z",
     "shell.execute_reply": "2023-03-23T15:03:49.362940Z",
     "shell.execute_reply.started": "2023-03-23T15:03:49.298902Z"
    },
    "executionInfo": {
     "elapsed": 25,
     "status": "ok",
     "timestamp": 1678755109327,
     "user": {
      "displayName": "Simone Cancelli",
      "userId": "09897572314925326515"
     },
     "user_tz": -60
    },
    "id": "YQhURtbgM05V"
   },
   "outputs": [],
   "source": [
    "SEED = 128\n",
    "fix_seed(SEED)"
   ]
  },
  {
   "cell_type": "code",
   "execution_count": null,
   "metadata": {
    "execution": {
     "iopub.execute_input": "2023-03-23T15:03:49.373839Z",
     "iopub.status.busy": "2023-03-23T15:03:49.372339Z",
     "iopub.status.idle": "2023-03-23T15:03:49.385406Z",
     "shell.execute_reply": "2023-03-23T15:03:49.383825Z",
     "shell.execute_reply.started": "2023-03-23T15:03:49.373796Z"
    },
    "executionInfo": {
     "elapsed": 25,
     "status": "ok",
     "timestamp": 1678755109328,
     "user": {
      "displayName": "Simone Cancelli",
      "userId": "09897572314925326515"
     },
     "user_tz": -60
    },
    "id": "1TAEG0O3M6Bu"
   },
   "outputs": [],
   "source": [
    "IMGS_PATH = '/media/users/cgambina/Progetto_6/Dati/Immagini'\n",
    "\n",
    "NUM_EPOCHS = 6\n",
    "BS = 64 \n",
    "LR = 1e-4\n",
    "K = 10\n",
    "\n",
    "device = torch.device('cuda' if torch.cuda.is_available() else 'cpu')\n",
    "splits = KFold(n_splits=K, shuffle=True, random_state=SEED)"
   ]
  },
  {
   "cell_type": "code",
   "execution_count": null,
   "metadata": {
    "execution": {
     "iopub.execute_input": "2023-03-23T15:03:49.400448Z",
     "iopub.status.busy": "2023-03-23T15:03:49.399021Z",
     "iopub.status.idle": "2023-03-23T15:03:49.412380Z",
     "shell.execute_reply": "2023-03-23T15:03:49.410678Z",
     "shell.execute_reply.started": "2023-03-23T15:03:49.400409Z"
    },
    "executionInfo": {
     "elapsed": 25,
     "status": "ok",
     "timestamp": 1678755109329,
     "user": {
      "displayName": "Simone Cancelli",
      "userId": "09897572314925326515"
     },
     "user_tz": -60
    },
    "id": "7q7LYz3VNBZ3"
   },
   "outputs": [],
   "source": [
    "transforms = T.Compose([\n",
    "    T.RandomChoice(\n",
    "        [\n",
    "            T.RandomRotation((-5,5)),\n",
    "            T.RandomRotation((85,95)),\n",
    "            T.RandomRotation((175,195)),\n",
    "            T.RandomRotation((265,275)),\n",
    "    ]),\n",
    "    T.ToTensor(),\n",
    "    T.Normalize(\n",
    "        mean=[0.485, 0.456, 0.406],\n",
    "        std=[0.229, 0.224, 0.225]\n",
    "    )\n",
    "])"
   ]
  },
  {
   "cell_type": "code",
   "execution_count": null,
   "metadata": {},
   "outputs": [],
   "source": [
    "dataset = ImageFolder(IMGS_PATH, transforms)\n",
    "criterion = nn.BCEWithLogitsLoss() \n",
    "\n",
    "net = resnet50(weights='ResNet50_Weights.IMAGENET1K_V1').to(device)\n",
    "\n",
    "n_filters = net.fc.in_features\n",
    "net.fc = nn.Linear(n_filters, 1).to(device) \n",
    "\n",
    "OPTIMIZER = optim.Adam(net.parameters(), lr=LR)  \n",
    "SCHEDULER = None"
   ]
  },
  {
   "cell_type": "code",
   "execution_count": null,
   "metadata": {
    "colab": {
     "base_uri": "https://localhost:8080/",
     "height": 414
    },
    "execution": {
     "iopub.execute_input": "2023-03-23T15:04:01.576858Z",
     "iopub.status.busy": "2023-03-23T15:04:01.576535Z",
     "iopub.status.idle": "2023-03-23T15:31:57.221571Z",
     "shell.execute_reply": "2023-03-23T15:31:57.220432Z",
     "shell.execute_reply.started": "2023-03-23T15:04:01.576818Z"
    },
    "executionInfo": {
     "elapsed": 986419,
     "status": "error",
     "timestamp": 1678756098027,
     "user": {
      "displayName": "Simone Cancelli",
      "userId": "09897572314925326515"
     },
     "user_tz": -60
    },
    "id": "vTxD6gS_NxnC",
    "outputId": "0a93eb9a-4a02-4b65-c285-0e927f2b1281"
   },
   "outputs": [],
   "source": [
    "tot_exps = 15\n",
    "final_test_loss = []\n",
    "final_test_acc = []\n",
    "\n",
    "for i in tqdm(range(tot_exps)):\n",
    "    epoch_train_loss = []; epoch_train_acc = []\n",
    "    epoch_test_loss = []; epoch_test_acc = []\n",
    "    \n",
    "    SEED += 3\n",
    "    fix_seed(SEED)\n",
    "    \n",
    "    for fold, (train_idx,test_idx) in enumerate(splits.split(np.arange(len(dataset)))):\n",
    "        \n",
    "        train_sampler = SubsetRandomSampler(train_idx)\n",
    "        test_sampler = SubsetRandomSampler(test_idx)\n",
    "        train_loader = DataLoader(dataset, batch_size=BS, sampler=train_sampler)\n",
    "        test_loader = DataLoader(dataset, batch_size=BS, sampler=test_sampler)\n",
    "        \n",
    "        # Reset parametri\n",
    "        net.apply(reset_wgts)\n",
    "        optimizer = OPTIMIZER \n",
    "        scheduler = SCHEDULER\n",
    "    \n",
    "        for epoch in range(NUM_EPOCHS):\n",
    "            train_loss, train_correct = train_one_epoch(net,device,train_loader,criterion,optimizer,scheduler)\n",
    "            test_loss, test_correct = test_one_epoch(net,device,test_loader,criterion)\n",
    "    \n",
    "            train_loss = train_loss / len(train_loader.sampler)\n",
    "            train_acc = train_correct / len(train_loader.sampler) * 100\n",
    "            test_loss = test_loss / len(test_loader.sampler)\n",
    "            test_acc = test_correct / len(test_loader.sampler) * 100\n",
    "              \n",
    "        epoch_train_loss.append(train_loss); epoch_train_acc.append(train_acc)  \n",
    "        epoch_test_loss.append(test_loss); epoch_test_acc.append(test_acc)\n",
    "    \n",
    "    final_test_acc.append(epoch_train_acc)\n",
    "    final_test_loss.append(epoch_train_loss)"
   ]
  },
  {
   "cell_type": "code",
   "execution_count": null,
   "metadata": {
    "execution": {
     "iopub.execute_input": "2023-03-23T15:31:57.224484Z",
     "iopub.status.busy": "2023-03-23T15:31:57.222937Z",
     "iopub.status.idle": "2023-03-23T15:31:57.233246Z",
     "shell.execute_reply": "2023-03-23T15:31:57.232014Z",
     "shell.execute_reply.started": "2023-03-23T15:31:57.224444Z"
    },
    "executionInfo": {
     "elapsed": 9,
     "status": "aborted",
     "timestamp": 1678756098028,
     "user": {
      "displayName": "Simone Cancelli",
      "userId": "09897572314925326515"
     },
     "user_tz": -60
    },
    "id": "0KjB3r-hN1nQ"
   },
   "outputs": [],
   "source": [
    "avg_test_loss = np.mean(final_test_loss)\n",
    "avg_test_acc = np.mean(final_test_acc)\n",
    "\n",
    "std_test_loss = np.std(final_test_loss)\n",
    "std_test_acc = np.std(final_test_acc)\n",
    "\n",
    "print(f'Media Test Loss: {avg_test_loss:.4f}')\n",
    "print(f'Media Test Accuracy: {avg_test_acc:.3f}')\n",
    "\n",
    "print(f'Std Test Loss: {std_test_loss:.4f}')\n",
    "print(f'Std Test Accuracy: {std_test_acc:.3f}')"
   ]
  },
  {
   "cell_type": "code",
   "execution_count": null,
   "metadata": {},
   "outputs": [],
   "source": [
    "param_list = [NUM_EPOCHS, BS, LR, SCHEDULER, avg_test_loss, avg_test_acc, std_test_loss, std_test_acc, 'ImageNet']\n",
    "\n",
    "with open('Results.csv', 'a') as f_object:\n",
    "    writer_object = writer(f_object)\n",
    "    writer_object.writerow(param_list)\n",
    "    f_object.close()"
   ]
  },
  {
   "cell_type": "code",
   "execution_count": null,
   "metadata": {},
   "outputs": [],
   "source": [
    "'''\n",
    "# Visualizzazione risultati migliori\n",
    "import pandas as pd\n",
    "\n",
    "header_list = ['Epoche', 'Batch-size', 'Learning-rate', 'Scheduler', 'Loss', \n",
    "               'Accuracy', 'Std-Loss', 'Std-Accuracy', 'Normalization']\n",
    "df = pd.read_csv('Results.csv', header=None)\n",
    "df.columns = header_list\n",
    "\n",
    "df.sort_values('Accuracy', ascending=False).head(10)\n",
    "'''"
   ]
  },
  {
   "cell_type": "code",
   "execution_count": null,
   "metadata": {},
   "outputs": [],
   "source": []
  }
 ],
 "metadata": {
  "accelerator": "GPU",
  "colab": {
   "authorship_tag": "ABX9TyNU2TlqdxoljOQk4F8F++i9",
   "mount_file_id": "1LhC5UH_zlem54ASU8nyCxMRtpk-DduoQ",
   "provenance": []
  },
  "gpuClass": "standard",
  "kernelspec": {
   "display_name": "Python 3 (ipykernel)",
   "language": "python",
   "name": "python3"
  },
  "language_info": {
   "codemirror_mode": {
    "name": "ipython",
    "version": 3
   },
   "file_extension": ".py",
   "mimetype": "text/x-python",
   "name": "python",
   "nbconvert_exporter": "python",
   "pygments_lexer": "ipython3",
   "version": "3.10.8"
  }
 },
 "nbformat": 4,
 "nbformat_minor": 4
}
