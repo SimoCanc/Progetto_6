{
 "cells": [
  {
   "cell_type": "code",
   "execution_count": null,
   "id": "80792e06",
   "metadata": {},
   "outputs": [],
   "source": [
    "'''\n",
    "Insieme di funzioni richiamate negli script\n",
    "che compongono il progetto\n",
    "'''"
   ]
  },
  {
   "cell_type": "code",
   "execution_count": null,
   "id": "d1c76d7b",
   "metadata": {},
   "outputs": [],
   "source": [
    "# Import delle librerie\n",
    "import torch\n",
    "import torch.nn as nn\n",
    "import torch.optim as optim\n",
    "import torchvision.transforms as T\n",
    "from torchvision.models import resnet50\n",
    "from torch.utils.data import DataLoader,SubsetRandomSampler\n",
    "\n",
    "import cv2\n",
    "import matplotlib.pyplot as plt\n",
    "from PIL import Image"
   ]
  },
  {
   "cell_type": "code",
   "execution_count": null,
   "id": "2fd63c51",
   "metadata": {},
   "outputs": [],
   "source": [
    "def fix_seed(seed_value):\n",
    "    \"\"\"Inizializzazione generatore valori random\"\"\"\n",
    "    torch.manual_seed(seed_value)    \n",
    "    if torch.cuda.is_available(): \n",
    "        torch.cuda.manual_seed(seed_value)\n",
    "        torch.cuda.manual_seed_all(seed_value)\n",
    "        torch.backends.cudnn.deterministic = True\n",
    "        torch.backends.cudnn.benchmark = False"
   ]
  },
  {
   "cell_type": "code",
   "execution_count": null,
   "id": "9a6de28e",
   "metadata": {},
   "outputs": [],
   "source": [
    "def train_one_epoch(model, device ,dataloader, loss_func, optimizer, scheduler):\n",
    "    \"\"\"Esegue un epoca di training della rete\"\"\"\n",
    "    train_loss , train_correct = 0.0, 0\n",
    "    model.train()\n",
    "    for images, labels in dataloader:\n",
    "        images,labels = images.to(device), labels.to(device)\n",
    "        labels = labels.unsqueeze(1).float() \n",
    "        optimizer.zero_grad()\n",
    "        output = model(images)\n",
    "        loss = loss_func(output,labels)\n",
    "        loss.backward()\n",
    "        optimizer.step()\n",
    "        if scheduler: scheduler.step()\n",
    "        train_loss += loss.item() * images.size(0)\n",
    "        probs = torch.sigmoid(output)\n",
    "        preds = probs.round()\n",
    "        train_correct += (preds == labels).sum().item()\n",
    "    return train_loss, train_correct"
   ]
  },
  {
   "cell_type": "code",
   "execution_count": null,
   "id": "e87baada",
   "metadata": {},
   "outputs": [],
   "source": [
    "def test_one_epoch(model, device, dataloader, loss_func):\n",
    "    \"\"\"Esegue la validazione durante la K-Fold C.V\"\"\"\n",
    "    test_loss , test_correct = 0.0, 0\n",
    "    model.eval()\n",
    "    with torch.no_grad():\n",
    "        for images, labels in dataloader:\n",
    "            images,labels = images.to(device), labels.to(device)\n",
    "            labels = labels.unsqueeze(1).float()\n",
    "            output = model(images)\n",
    "            loss = loss_func(output,labels)\n",
    "            test_loss += loss.item() * images.size(0)\n",
    "            probs = torch.sigmoid(output)\n",
    "            preds = probs.round()  \n",
    "            test_correct += (preds == labels).sum().item()\n",
    "        return test_loss, test_correct"
   ]
  },
  {
   "cell_type": "code",
   "execution_count": null,
   "id": "3dec5258",
   "metadata": {},
   "outputs": [],
   "source": [
    "def get_test_preds(model, device, dataloader, loss_func):\n",
    "    \"\"\"Esegue la valutazione su un test-set esterno\"\"\"\n",
    "    predictions, targets = [], []\n",
    "    test_loss , test_correct = 0.0, 0\n",
    "    model.eval()\n",
    "    with torch.no_grad():\n",
    "        for images, labels in dataloader:\n",
    "            images,labels = images.to(device), labels.to(device)\n",
    "            labels = labels.unsqueeze(1).float()\n",
    "            output = model(images)\n",
    "            loss = loss_func(output,labels)\n",
    "            test_loss += loss.item() * images.size(0)\n",
    "            probs = torch.sigmoid(output)\n",
    "            preds = probs.round()  \n",
    "            test_correct += (preds == labels).sum().item()\n",
    "            \n",
    "            for i in range(len(preds)):\n",
    "                predictions.append(preds[i].cpu().data.numpy())\n",
    "                targets.append(labels[i].cpu().data.numpy())\n",
    "            \n",
    "        return test_loss, test_correct, predictions, targets"
   ]
  },
  {
   "cell_type": "code",
   "execution_count": null,
   "id": "038c00d7",
   "metadata": {},
   "outputs": [],
   "source": [
    "def reset_wgts(model):\n",
    "    \"\"\"Esegue il reset dei pesi della rete durante K-Fold C.V.\"\"\"\n",
    "    for _, module in model.named_children():\n",
    "        if hasattr(module, 'reset_parameters'):\n",
    "            module.reset_parameters()"
   ]
  },
  {
   "cell_type": "code",
   "execution_count": null,
   "id": "36340465",
   "metadata": {},
   "outputs": [],
   "source": [
    "base_path = '/media/users/cgambina/Progetto_6/Repo/FaceDetect-master/'\n",
    "haarcascade_path = base_path + 'haarcascade_frontalface_default.xml'  \n",
    "face_cascade = cv2.CascadeClassifier(haarcascade_path)\n",
    "\n",
    "def get_face(image_path, box_color=(0,0,255)):\n",
    "    \"\"\"Individua un volto umano presente in un immagine\"\"\"\n",
    "    image = cv2.cvtColor(cv2.imread(image_path), cv2.COLOR_BGR2RGB)\n",
    "    face = face_cascade.detectMultiScale(image, 1.05, 1)\n",
    "    \n",
    "    area = -1\n",
    "    for (x, y, w, h) in face:\n",
    "        # Selezione della b-box più grande\n",
    "        new_area = w * h\n",
    "        if new_area > area:\n",
    "            area = new_area\n",
    "            dims = (x, y, w, h)\n",
    "               \n",
    "    cv2.rectangle(image, (dims[0], dims[1]), (dims[0]+dims[2], dims[1]+dims[3]), box_color, 3)\n",
    "    face = image[y:y + h, x:x + w]\n",
    "        \n",
    "    face = cv2.resize(face, (128, 128))\n",
    "    pil_image = Image.fromarray(face)\n",
    "    \n",
    "    plt.imshow(image)    \n",
    "    return pil_image"
   ]
  },
  {
   "cell_type": "code",
   "execution_count": null,
   "id": "99884398",
   "metadata": {},
   "outputs": [],
   "source": [
    "def get_prediction(pil_image, tfms, net):\n",
    "    \"\"\"Calcola la probabilità che una persona non indossi una maschera\"\"\"\n",
    "    tensor_img = tfms(pil_image)\n",
    "    tensor_img = torch.unsqueeze(tensor_img, 0)\n",
    "    output = net(tensor_img)\n",
    "    output = torch.sigmoid(output)\n",
    "    return output.item()"
   ]
  },
  {
   "cell_type": "code",
   "execution_count": null,
   "id": "92949577",
   "metadata": {},
   "outputs": [],
   "source": [
    "def freeze_layers(net, layers_list=['layer1', 'layer2']):\n",
    "    \"\"\"Inibisce il gradiente nei layer selezionati\"\"\"\n",
    "    layer_counter = 0\n",
    "    for (name, module) in net.named_children():\n",
    "        if name in layers_list:\n",
    "            for layer in module.children():\n",
    "                for param in layer.parameters():\n",
    "                    param.requires_grad = False\n",
    "                    \n",
    "            print(f'Modulo {name} gradiente inibito!!')\n",
    "            layer_counter += 1"
   ]
  },
  {
   "cell_type": "code",
   "execution_count": null,
   "id": "9e007090",
   "metadata": {},
   "outputs": [],
   "source": [
    "def show_batch(data, n_elems=(4,6)):\n",
    "    \"\"\"Mostra un campione di immagini\"\"\"\n",
    "    labels_map = ['Con Maschera', 'Senza Maschera']\n",
    "\n",
    "    figure = plt.figure(figsize=(10, 10))\n",
    "    cols, rows = n_elems[1], n_elems[0]\n",
    "    for i in range(1, cols * rows + 1):\n",
    "        sample_idx = torch.randint(len(data), size=(1,)).item()\n",
    "        img, label = data[sample_idx]\n",
    "        img = torch.permute(img, (1,2,0))\n",
    "        figure.add_subplot(rows, cols, i)\n",
    "        plt.title(labels_map[label])\n",
    "        plt.axis('off')\n",
    "        plt.imshow(img.squeeze())\n",
    "    plt.show()"
   ]
  },
  {
   "cell_type": "code",
   "execution_count": null,
   "id": "d4ddc5b7",
   "metadata": {},
   "outputs": [],
   "source": []
  }
 ],
 "metadata": {
  "kernelspec": {
   "display_name": "Python 3 (ipykernel)",
   "language": "python",
   "name": "python3"
  },
  "language_info": {
   "codemirror_mode": {
    "name": "ipython",
    "version": 3
   },
   "file_extension": ".py",
   "mimetype": "text/x-python",
   "name": "python",
   "nbconvert_exporter": "python",
   "pygments_lexer": "ipython3",
   "version": "3.10.8"
  }
 },
 "nbformat": 4,
 "nbformat_minor": 5
}
