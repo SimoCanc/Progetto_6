{
 "cells": [
  {
   "cell_type": "code",
   "execution_count": null,
   "metadata": {},
   "outputs": [],
   "source": [
    "'''\n",
    "Questo script esegue il training della rete\n",
    "sull'intero dataset\n",
    "'''"
   ]
  },
  {
   "cell_type": "code",
   "execution_count": null,
   "metadata": {
    "execution": {
     "iopub.execute_input": "2023-03-20T18:11:46.253399Z",
     "iopub.status.busy": "2023-03-20T18:11:46.252744Z",
     "iopub.status.idle": "2023-03-20T18:11:47.357834Z",
     "shell.execute_reply": "2023-03-20T18:11:47.356786Z",
     "shell.execute_reply.started": "2023-03-20T18:11:46.253360Z"
    }
   },
   "outputs": [],
   "source": [
    "# Import delle librerie\n",
    "import torch\n",
    "import torch.nn as nn\n",
    "import torch.optim as optim\n",
    "import torchvision.transforms as T\n",
    "from torchvision.models import resnet50\n",
    "from torchvision.datasets import ImageFolder\n",
    "from torch.utils.data import DataLoader\n",
    "\n",
    "import matplotlib.pyplot as plt"
   ]
  },
  {
   "cell_type": "code",
   "execution_count": null,
   "metadata": {},
   "outputs": [],
   "source": [
    "# Import funzioni da file utils.txt\n",
    "import ipynb\n",
    "from ipynb.fs.full.utils import fix_seed, train_one_epoch, show_batch"
   ]
  },
  {
   "cell_type": "code",
   "execution_count": null,
   "metadata": {
    "execution": {
     "iopub.execute_input": "2023-03-20T18:11:47.359981Z",
     "iopub.status.busy": "2023-03-20T18:11:47.359393Z",
     "iopub.status.idle": "2023-03-20T18:11:47.388403Z",
     "shell.execute_reply": "2023-03-20T18:11:47.387476Z",
     "shell.execute_reply.started": "2023-03-20T18:11:47.359942Z"
    }
   },
   "outputs": [],
   "source": [
    "IMGS_PATH = '/media/users/cgambina/Progetto_6/Dati/Immagini'\n",
    "\n",
    "# Definizione iper-parametri migliori\n",
    "NUM_EPOCHS = 9\n",
    "BS = 128\n",
    "LR = 1e-3\n",
    "LR_DEC = 0.75\n",
    "\n",
    "device = torch.device('cuda' if torch.cuda.is_available() else 'cpu')\n",
    "\n",
    "# Inizializzazione generatore valori random\n",
    "SEED = 123\n",
    "fix_seed(SEED)"
   ]
  },
  {
   "cell_type": "code",
   "execution_count": null,
   "metadata": {
    "execution": {
     "iopub.execute_input": "2023-03-20T18:11:47.401071Z",
     "iopub.status.busy": "2023-03-20T18:11:47.400735Z",
     "iopub.status.idle": "2023-03-20T18:11:47.407906Z",
     "shell.execute_reply": "2023-03-20T18:11:47.406822Z",
     "shell.execute_reply.started": "2023-03-20T18:11:47.401044Z"
    }
   },
   "outputs": [],
   "source": [
    "# Definizione trasformazioni da applicare al batch di immagini\n",
    "transforms = T.Compose([\n",
    "    T.RandomChoice(\n",
    "        [\n",
    "            T.RandomRotation((-5,5)),\n",
    "            T.RandomRotation((85,95)),\n",
    "            T.RandomRotation((175,195)),\n",
    "            T.RandomRotation((265,275)),\n",
    "    ]),\n",
    "    T.ToTensor(),\n",
    "    T.Normalize(\n",
    "        mean=[0.485, 0.456, 0.406],\n",
    "        std=[0.229, 0.224, 0.225]\n",
    "    )\n",
    "])"
   ]
  },
  {
   "cell_type": "code",
   "execution_count": null,
   "metadata": {
    "execution": {
     "iopub.execute_input": "2023-03-20T18:11:47.421106Z",
     "iopub.status.busy": "2023-03-20T18:11:47.420063Z",
     "iopub.status.idle": "2023-03-20T18:11:55.271545Z",
     "shell.execute_reply": "2023-03-20T18:11:55.270520Z",
     "shell.execute_reply.started": "2023-03-20T18:11:47.421070Z"
    }
   },
   "outputs": [],
   "source": [
    "dataset = ImageFolder(IMGS_PATH, transforms)\n",
    "criterion = nn.BCEWithLogitsLoss() \n",
    "\n",
    "net = resnet50(weights='ResNet50_Weights.IMAGENET1K_V1').to(device)\n",
    "n_filters = net.fc.in_features\n",
    "net.fc = nn.Linear(n_filters, 1).to(device) "
   ]
  },
  {
   "cell_type": "code",
   "execution_count": null,
   "metadata": {},
   "outputs": [],
   "source": [
    "# Riduzione del learning rate in base al layer (blocco)\n",
    "layer_names = []\n",
    "for name, param in net.named_parameters():\n",
    "    layer_names.append(name)\n",
    "\n",
    "layer_names.reverse()\n",
    "\n",
    "parameters      = []\n",
    "prev_group_name = layer_names[0].split('.')[0]\n",
    "\n",
    "for idx, name in enumerate(layer_names):\n",
    "    \n",
    "    cur_group_name = name.split('.')[0]\n",
    "    if cur_group_name != prev_group_name:\n",
    "        LR *= LR_DEC\n",
    "    prev_group_name = cur_group_name\n",
    "\n",
    "    #print(f'{idx}: lr = {LR:.6f}, {name}')\n",
    "    parameters += [{'params': [p for n, p in net.named_parameters() if n == name and p.requires_grad],\n",
    "                    'lr':     LR}]"
   ]
  },
  {
   "cell_type": "code",
   "execution_count": null,
   "metadata": {},
   "outputs": [],
   "source": [
    "optimizer = optim.Adam(parameters)  "
   ]
  },
  {
   "cell_type": "code",
   "execution_count": null,
   "metadata": {
    "execution": {
     "iopub.execute_input": "2023-03-20T18:11:55.273702Z",
     "iopub.status.busy": "2023-03-20T18:11:55.273288Z",
     "iopub.status.idle": "2023-03-20T18:15:00.827615Z",
     "shell.execute_reply": "2023-03-20T18:15:00.826359Z",
     "shell.execute_reply.started": "2023-03-20T18:11:55.273664Z"
    }
   },
   "outputs": [],
   "source": [
    "# Training della rete\n",
    "train_loader = DataLoader(dataset, batch_size=BS)\n",
    "\n",
    "for epoch in range(NUM_EPOCHS):\n",
    "    train_loss, train_correct = train_one_epoch(net,device,train_loader,criterion,optimizer,scheduler=None)\n",
    "    train_loss = train_loss / len(train_loader.sampler)\n",
    "    train_acc = train_correct / len(train_loader.sampler) * 100\n",
    "    print(f'Epoca:{epoch+1}/{NUM_EPOCHS} Training Loss:{train_loss:.3f} Training Acc {train_acc:.2f} %') "
   ]
  },
  {
   "cell_type": "code",
   "execution_count": null,
   "metadata": {
    "execution": {
     "iopub.execute_input": "2023-03-20T18:15:00.829917Z",
     "iopub.status.busy": "2023-03-20T18:15:00.829263Z",
     "iopub.status.idle": "2023-03-20T18:15:00.975876Z",
     "shell.execute_reply": "2023-03-20T18:15:00.974793Z",
     "shell.execute_reply.started": "2023-03-20T18:15:00.829877Z"
    }
   },
   "outputs": [],
   "source": [
    "# Salvataggio dei paramatri (pesi) della rete\n",
    "save_dir = '/media/users/cgambina/Progetto_6/Dati/BestWeights'\n",
    "save_path = f'{save_dir}/best_model.pt'\n",
    "\n",
    "torch.save(net.state_dict(), save_path)"
   ]
  },
  {
   "cell_type": "code",
   "execution_count": null,
   "metadata": {},
   "outputs": [],
   "source": [
    "'''\n",
    "# Mostra un campione di immagini\n",
    "show_tfms = T.Compose([\n",
    "    T.RandomChoice(\n",
    "        [\n",
    "            T.RandomRotation((-5,5)),\n",
    "            T.RandomRotation((85,95)),\n",
    "            T.RandomRotation((175,195)),\n",
    "            T.RandomRotation((265,275)),\n",
    "    ]),\n",
    "    T.ToTensor(),\n",
    "])\n",
    "\n",
    "foo_dataset = ImageFolder(IMGS_PATH, show_tfms)\n",
    "show_batch(foo_dataset)\n",
    "'''"
   ]
  },
  {
   "cell_type": "code",
   "execution_count": null,
   "metadata": {},
   "outputs": [],
   "source": []
  }
 ],
 "metadata": {
  "kernelspec": {
   "display_name": "Python 3 (ipykernel)",
   "language": "python",
   "name": "python3"
  },
  "language_info": {
   "codemirror_mode": {
    "name": "ipython",
    "version": 3
   },
   "file_extension": ".py",
   "mimetype": "text/x-python",
   "name": "python",
   "nbconvert_exporter": "python",
   "pygments_lexer": "ipython3",
   "version": "3.10.8"
  }
 },
 "nbformat": 4,
 "nbformat_minor": 4
}
