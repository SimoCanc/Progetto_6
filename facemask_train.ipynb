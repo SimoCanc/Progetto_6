{
 "cells": [
  {
   "cell_type": "code",
   "execution_count": 1,
   "metadata": {
    "execution": {
     "iopub.execute_input": "2023-03-20T18:11:46.253399Z",
     "iopub.status.busy": "2023-03-20T18:11:46.252744Z",
     "iopub.status.idle": "2023-03-20T18:11:47.357834Z",
     "shell.execute_reply": "2023-03-20T18:11:47.356786Z",
     "shell.execute_reply.started": "2023-03-20T18:11:46.253360Z"
    }
   },
   "outputs": [],
   "source": [
    "import torch\n",
    "import torch.nn as nn\n",
    "import torch.optim as optim\n",
    "import torchvision.transforms as T\n",
    "from torchvision.models import resnet50\n",
    "from torchvision.datasets import ImageFolder\n",
    "from torch.utils.data import DataLoader\n",
    "\n",
    "import matplotlib.pyplot as plt"
   ]
  },
  {
   "cell_type": "code",
   "execution_count": 2,
   "metadata": {},
   "outputs": [],
   "source": [
    "import ipynb\n",
    "from ipynb.fs.full.utils import fix_seed, train_one_epoch, show_batch"
   ]
  },
  {
   "cell_type": "code",
   "execution_count": 3,
   "metadata": {
    "execution": {
     "iopub.execute_input": "2023-03-20T18:11:47.359981Z",
     "iopub.status.busy": "2023-03-20T18:11:47.359393Z",
     "iopub.status.idle": "2023-03-20T18:11:47.388403Z",
     "shell.execute_reply": "2023-03-20T18:11:47.387476Z",
     "shell.execute_reply.started": "2023-03-20T18:11:47.359942Z"
    }
   },
   "outputs": [],
   "source": [
    "IMGS_PATH = '/media/users/cgambina/Progetto_6/Dati/Immagini'\n",
    "\n",
    "NUM_EPOCHS = 11\n",
    "BS = 128\n",
    "LR = 1e-4\n",
    "\n",
    "device = torch.device('cuda' if torch.cuda.is_available() else 'cpu')\n",
    "        \n",
    "SEED = 123\n",
    "fix_seed(SEED)"
   ]
  },
  {
   "cell_type": "code",
   "execution_count": 4,
   "metadata": {
    "execution": {
     "iopub.execute_input": "2023-03-20T18:11:47.401071Z",
     "iopub.status.busy": "2023-03-20T18:11:47.400735Z",
     "iopub.status.idle": "2023-03-20T18:11:47.407906Z",
     "shell.execute_reply": "2023-03-20T18:11:47.406822Z",
     "shell.execute_reply.started": "2023-03-20T18:11:47.401044Z"
    }
   },
   "outputs": [],
   "source": [
    "transforms = T.Compose([\n",
    "    T.RandomChoice(\n",
    "        [\n",
    "            T.RandomRotation((-5,5)),\n",
    "            T.RandomRotation((85,95)),\n",
    "            T.RandomRotation((175,195)),\n",
    "            T.RandomRotation((265,275)),\n",
    "    ]),\n",
    "    T.ToTensor(),\n",
    "    T.Normalize(\n",
    "        mean=[0.485, 0.456, 0.406],\n",
    "        std=[0.229, 0.224, 0.225]\n",
    "    )\n",
    "])"
   ]
  },
  {
   "cell_type": "code",
   "execution_count": 5,
   "metadata": {
    "execution": {
     "iopub.execute_input": "2023-03-20T18:11:47.421106Z",
     "iopub.status.busy": "2023-03-20T18:11:47.420063Z",
     "iopub.status.idle": "2023-03-20T18:11:55.271545Z",
     "shell.execute_reply": "2023-03-20T18:11:55.270520Z",
     "shell.execute_reply.started": "2023-03-20T18:11:47.421070Z"
    }
   },
   "outputs": [],
   "source": [
    "dataset = ImageFolder(IMGS_PATH, transforms)\n",
    "criterion = nn.BCEWithLogitsLoss() \n",
    "\n",
    "net = resnet50(weights='ResNet50_Weights.IMAGENET1K_V1').to(device)\n",
    "n_filters = net.fc.in_features\n",
    "net.fc = nn.Linear(n_filters, 1).to(device) \n",
    "\n",
    "optimizer = optim.Adam(net.parameters(), lr=LR)"
   ]
  },
  {
   "cell_type": "code",
   "execution_count": 6,
   "metadata": {
    "execution": {
     "iopub.execute_input": "2023-03-20T18:11:55.273702Z",
     "iopub.status.busy": "2023-03-20T18:11:55.273288Z",
     "iopub.status.idle": "2023-03-20T18:15:00.827615Z",
     "shell.execute_reply": "2023-03-20T18:15:00.826359Z",
     "shell.execute_reply.started": "2023-03-20T18:11:55.273664Z"
    }
   },
   "outputs": [
    {
     "name": "stdout",
     "output_type": "stream",
     "text": [
      "Epoca:1/11 Training Loss:0.771 Training Acc 49.49 %\n",
      "Epoca:2/11 Training Loss:0.626 Training Acc 64.03 %\n",
      "Epoca:3/11 Training Loss:0.575 Training Acc 70.66 %\n",
      "Epoca:4/11 Training Loss:0.543 Training Acc 72.19 %\n",
      "Epoca:5/11 Training Loss:0.534 Training Acc 71.94 %\n",
      "Epoca:6/11 Training Loss:0.523 Training Acc 74.49 %\n",
      "Epoca:7/11 Training Loss:0.517 Training Acc 71.68 %\n",
      "Epoca:8/11 Training Loss:0.520 Training Acc 72.45 %\n",
      "Epoca:9/11 Training Loss:0.507 Training Acc 71.68 %\n",
      "Epoca:10/11 Training Loss:0.509 Training Acc 69.13 %\n",
      "Epoca:11/11 Training Loss:0.507 Training Acc 72.19 %\n"
     ]
    }
   ],
   "source": [
    "train_loader = DataLoader(dataset, batch_size=BS)\n",
    "\n",
    "for epoch in range(NUM_EPOCHS):\n",
    "    train_loss, train_correct = train_one_epoch(net,device,train_loader,criterion,optimizer,scheduler=None)\n",
    "    train_loss = train_loss / len(train_loader.sampler)\n",
    "    train_acc = train_correct / len(train_loader.sampler) * 100\n",
    "    print(f'Epoca:{epoch+1}/{NUM_EPOCHS} Training Loss:{train_loss:.3f} Training Acc {train_acc:.2f} %') "
   ]
  },
  {
   "cell_type": "code",
   "execution_count": 7,
   "metadata": {
    "execution": {
     "iopub.execute_input": "2023-03-20T18:15:00.829917Z",
     "iopub.status.busy": "2023-03-20T18:15:00.829263Z",
     "iopub.status.idle": "2023-03-20T18:15:00.975876Z",
     "shell.execute_reply": "2023-03-20T18:15:00.974793Z",
     "shell.execute_reply.started": "2023-03-20T18:15:00.829877Z"
    }
   },
   "outputs": [],
   "source": [
    "save_dir = '/media/users/cgambina/Progetto_6/Dati/BestWeights'\n",
    "save_path = f'{save_dir}/best_model.pt'\n",
    "\n",
    "torch.save(net.state_dict(), save_path)"
   ]
  },
  {
   "cell_type": "code",
   "execution_count": 8,
   "metadata": {},
   "outputs": [
    {
     "data": {
      "text/plain": [
       "'\\nshow_tfms = T.Compose([\\n    T.RandomChoice(\\n        [\\n            T.RandomRotation((-5,5)),\\n            T.RandomRotation((85,95)),\\n            T.RandomRotation((175,195)),\\n            T.RandomRotation((265,275)),\\n    ]),\\n    T.ToTensor(),\\n])\\n\\nfoo_dataset = ImageFolder(IMGS_PATH, show_tfms)\\nshow_batch(foo_dataset)\\n'"
      ]
     },
     "execution_count": 8,
     "metadata": {},
     "output_type": "execute_result"
    }
   ],
   "source": [
    "'''\n",
    "show_tfms = T.Compose([\n",
    "    T.RandomChoice(\n",
    "        [\n",
    "            T.RandomRotation((-5,5)),\n",
    "            T.RandomRotation((85,95)),\n",
    "            T.RandomRotation((175,195)),\n",
    "            T.RandomRotation((265,275)),\n",
    "    ]),\n",
    "    T.ToTensor(),\n",
    "])\n",
    "\n",
    "foo_dataset = ImageFolder(IMGS_PATH, show_tfms)\n",
    "show_batch(foo_dataset)\n",
    "'''"
   ]
  },
  {
   "cell_type": "code",
   "execution_count": null,
   "metadata": {},
   "outputs": [],
   "source": []
  }
 ],
 "metadata": {
  "kernelspec": {
   "display_name": "Python 3 (ipykernel)",
   "language": "python",
   "name": "python3"
  },
  "language_info": {
   "codemirror_mode": {
    "name": "ipython",
    "version": 3
   },
   "file_extension": ".py",
   "mimetype": "text/x-python",
   "name": "python",
   "nbconvert_exporter": "python",
   "pygments_lexer": "ipython3",
   "version": "3.10.8"
  }
 },
 "nbformat": 4,
 "nbformat_minor": 4
}
